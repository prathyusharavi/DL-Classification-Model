{
  "nbformat": 4,
  "nbformat_minor": 0,
  "metadata": {
    "colab": {
      "provenance": []
    },
    "kernelspec": {
      "name": "python3",
      "display_name": "Python 3"
    },
    "language_info": {
      "name": "python"
    }
  },
  "cells": [
    {
      "cell_type": "code",
      "execution_count": 95,
      "metadata": {
        "id": "RrkeAYPX8eVp"
      },
      "outputs": [],
      "source": [
        "import torch\n",
        "import torch.nn as nn\n",
        "import torch.nn.functional as F\n",
        "from torch.utils.data import DataLoader\n",
        "from torchvision import datasets, transforms\n",
        "from torchvision.utils import make_grid\n",
        "\n",
        "import numpy as np\n",
        "import pandas as pd\n",
        "from sklearn.metrics import confusion_matrix\n",
        "import matplotlib.pyplot as plt\n",
        "%matplotlib inline"
      ]
    },
    {
      "cell_type": "code",
      "source": [
        "transform = transforms.ToTensor()\n"
      ],
      "metadata": {
        "id": "teSkFe869bG1"
      },
      "execution_count": 96,
      "outputs": []
    },
    {
      "cell_type": "code",
      "source": [
        "train_data = datasets.MNIST(root='../Data', train=True, download=True, transform=transform)"
      ],
      "metadata": {
        "id": "N8fcjtJ09bJg"
      },
      "execution_count": 97,
      "outputs": []
    },
    {
      "cell_type": "code",
      "source": [
        "test_data = datasets.MNIST(root='../Data', train=False, download=True, transform=transform)"
      ],
      "metadata": {
        "id": "8AJkZZDY9bMQ"
      },
      "execution_count": 98,
      "outputs": []
    },
    {
      "cell_type": "code",
      "source": [
        "train_loader = DataLoader(train_data, batch_size=10, shuffle=True)\n",
        "test_loader = DataLoader(test_data, batch_size=10, shuffle=False)"
      ],
      "metadata": {
        "id": "tkEBepNt9bVQ"
      },
      "execution_count": 99,
      "outputs": []
    },
    {
      "cell_type": "code",
      "source": [
        "class ConvolutionalNetwork(nn.Module):\n",
        "\n",
        "    def __init__(self):\n",
        "        super().__init__()\n",
        "        self.conv1 = nn.Conv2d(1,6,3,1)\n",
        "        self.conv2 = nn.Conv2d(6,16,3,1)\n",
        "        self.fc1 = nn.Linear(5*5*16,120)\n",
        "        self.fc2 = nn.Linear(120,84)\n",
        "        self.fc3 = nn.Linear(84,10)\n",
        "\n",
        "    def forward(self, X):\n",
        "        X = F.relu(self.conv1(X))\n",
        "        X = F.max_pool2d(X, 2, 2)\n",
        "        X = F.relu(self.conv2(X))\n",
        "        X = F.max_pool2d(X, 2, 2)\n",
        "        X = X.view(-1, 5*5*16)\n",
        "        X = F.relu(self.fc1(X))\n",
        "        X = F.relu(self.fc2(X))\n",
        "        X = self.fc3(X)\n",
        "        return F.log_softmax(X, dim=1)\n"
      ],
      "metadata": {
        "id": "_wPVZZLZ-yfH"
      },
      "execution_count": 100,
      "outputs": []
    },
    {
      "cell_type": "code",
      "source": [
        "criterion = nn.CrossEntropyLoss()\n",
        "optimizer = torch.optim.Adam(model.parameters(), lr=0.001)"
      ],
      "metadata": {
        "id": "_RGLtsmV_MAh"
      },
      "execution_count": 101,
      "outputs": []
    },
    {
      "cell_type": "code",
      "source": [
        "import time\n",
        "start_time = time.time()\n",
        "epochs = 5\n",
        "train_losses = []\n",
        "test_losses = []\n",
        "train_correct = []\n",
        "test_correct = []\n",
        "\n",
        "for i in range(epochs):\n",
        "\n",
        "    trn_corr = 0\n",
        "    tst_corr = 0\n",
        "\n",
        "    for b, (X_train, y_train) in enumerate(train_loader):\n",
        "        b+=1\n",
        "\n",
        "        y_pred = model(X_train)\n",
        "        loss = criterion(y_pred, y_train)\n",
        "\n",
        "\n",
        "        predicted = torch.max(y_pred.data, 1)[1]\n",
        "        batch_corr = (predicted == y_train).sum()\n",
        "        trn_corr += batch_corr\n",
        "\n",
        "\n",
        "        optimizer.zero_grad()\n",
        "        loss.backward()\n",
        "        optimizer.step()\n",
        "\n",
        "        if b%600 == 0:\n",
        "            print(f'epoch: {i}  batch: {b} loss: {loss.item()}')\n",
        "\n",
        "    train_losses.append(loss)\n",
        "    train_correct.append(trn_corr)\n",
        "\n",
        "\n",
        "    with torch.no_grad():\n",
        "        for b, (X_test, y_test) in enumerate(test_loader):\n",
        "\n",
        "\n",
        "            y_val = model(X_test)\n",
        "\n",
        "\n",
        "            predicted = torch.max(y_val.data, 1)[1]\n",
        "            tst_corr += (predicted == y_test).sum()\n",
        "\n",
        "    loss = criterion(y_val, y_test)\n",
        "    test_losses.append(loss)\n",
        "    test_correct.append(tst_corr)\n",
        "\n",
        "current_time = time.time()\n",
        "total = current_time - start_time\n",
        "print(f'Training took {total/60} minutes')"
      ],
      "metadata": {
        "colab": {
          "base_uri": "https://localhost:8080/",
          "height": 0
        },
        "id": "QvHDc6HA_MC_",
        "outputId": "30f3ef75-d8d1-45b9-b279-aea72acb86ab"
      },
      "execution_count": 102,
      "outputs": [
        {
          "output_type": "stream",
          "name": "stdout",
          "text": [
            "epoch: 0  batch: 600 loss: 0.0009750074823386967\n",
            "epoch: 0  batch: 1200 loss: 5.912554479436949e-05\n",
            "epoch: 0  batch: 1800 loss: 1.6367164789699018e-05\n",
            "epoch: 0  batch: 2400 loss: 0.0012160486076027155\n",
            "epoch: 0  batch: 3000 loss: 1.8954162896989146e-06\n",
            "epoch: 0  batch: 3600 loss: 0.0007349248044192791\n",
            "epoch: 0  batch: 4200 loss: 0.16712406277656555\n",
            "epoch: 0  batch: 4800 loss: 2.46030067501124e-05\n",
            "epoch: 0  batch: 5400 loss: 0.005683022551238537\n",
            "epoch: 0  batch: 6000 loss: 0.058074094355106354\n",
            "epoch: 1  batch: 600 loss: 0.0002918161335401237\n",
            "epoch: 1  batch: 1200 loss: 5.288606189424172e-05\n",
            "epoch: 1  batch: 1800 loss: 0.0007353689288720489\n",
            "epoch: 1  batch: 2400 loss: 0.09693963825702667\n",
            "epoch: 1  batch: 3000 loss: 0.003546870546415448\n",
            "epoch: 1  batch: 3600 loss: 0.0005043564597144723\n",
            "epoch: 1  batch: 4200 loss: 0.0011155989486724138\n",
            "epoch: 1  batch: 4800 loss: 6.091508112149313e-06\n",
            "epoch: 1  batch: 5400 loss: 5.8583846112014726e-05\n",
            "epoch: 1  batch: 6000 loss: 0.0006982460618019104\n",
            "epoch: 2  batch: 600 loss: 0.07836834341287613\n",
            "epoch: 2  batch: 1200 loss: 0.005480308551341295\n",
            "epoch: 2  batch: 1800 loss: 0.0010955773759633303\n",
            "epoch: 2  batch: 2400 loss: 0.027244815602898598\n",
            "epoch: 2  batch: 3000 loss: 0.0003678822540678084\n",
            "epoch: 2  batch: 3600 loss: 0.002514708787202835\n",
            "epoch: 2  batch: 4200 loss: 0.002712015062570572\n",
            "epoch: 2  batch: 4800 loss: 0.00032251194352284074\n",
            "epoch: 2  batch: 5400 loss: 5.006736500945408e-06\n",
            "epoch: 2  batch: 6000 loss: 6.61039593978785e-05\n",
            "epoch: 3  batch: 600 loss: 0.004553929902613163\n",
            "epoch: 3  batch: 1200 loss: 8.940672273638484e-07\n",
            "epoch: 3  batch: 1800 loss: 0.0033887699246406555\n",
            "epoch: 3  batch: 2400 loss: 1.0263478543492965e-05\n",
            "epoch: 3  batch: 3000 loss: 0.009049327112734318\n",
            "epoch: 3  batch: 3600 loss: 0.00487933773547411\n",
            "epoch: 3  batch: 4200 loss: 0.00014006694254931062\n",
            "epoch: 3  batch: 4800 loss: 2.7081090593128465e-05\n",
            "epoch: 3  batch: 5400 loss: 0.001722837216220796\n",
            "epoch: 3  batch: 6000 loss: 0.00012335283099673688\n",
            "epoch: 4  batch: 600 loss: 0.0005731763085350394\n",
            "epoch: 4  batch: 1200 loss: 0.012675948441028595\n",
            "epoch: 4  batch: 1800 loss: 0.03803583234548569\n",
            "epoch: 4  batch: 2400 loss: 7.662236748728901e-05\n",
            "epoch: 4  batch: 3000 loss: 0.0001147403527284041\n",
            "epoch: 4  batch: 3600 loss: 0.03543657436966896\n",
            "epoch: 4  batch: 4200 loss: 3.0517421691911295e-06\n",
            "epoch: 4  batch: 4800 loss: 0.016534114256501198\n",
            "epoch: 4  batch: 5400 loss: 0.0324237160384655\n",
            "epoch: 4  batch: 6000 loss: 0.0010214531794190407\n",
            "Training took 4.10264368057251 minutes\n"
          ]
        }
      ]
    },
    {
      "cell_type": "code",
      "source": [
        "train_losses = [t.detach().numpy() for t in train_losses]\n",
        "test_losses = [t.detach().numpy() for t in test_losses]\n",
        "\n",
        "plt.plot(train_losses, label='training loss')\n",
        "plt.plot(test_losses, label='validation loss')\n",
        "plt.title('Loss at the end of each epoch')\n",
        "plt.legend();\n",
        "plt.show()"
      ],
      "metadata": {
        "colab": {
          "base_uri": "https://localhost:8080/",
          "height": 452
        },
        "id": "Nf7rxq5o_MFo",
        "outputId": "e7d70f34-1de2-4e38-ef0e-76b4cb7ea39d"
      },
      "execution_count": 103,
      "outputs": [
        {
          "output_type": "display_data",
          "data": {
            "text/plain": [
              "<Figure size 640x480 with 1 Axes>"
            ],
            "image/png": "[encoded data removed]"
          },
          "metadata": {}
        }
      ]
    },
    {
      "cell_type": "code",
      "source": [
        "plt.plot([t/600 for t in train_correct], label='training accuracy')\n",
        "plt.plot([t/100 for t in test_correct], label='validation accuracy')\n",
        "plt.title('Accuracy at the end of each epoch')\n",
        "plt.legend();\n",
        "plt.show()"
      ],
      "metadata": {
        "colab": {
          "base_uri": "https://localhost:8080/",
          "height": 452
        },
        "id": "gwXmHLBCA0WU",
        "outputId": "7ca06c77-774c-44ca-ae8c-35040bb704a7"
      },
      "execution_count": 104,
      "outputs": [
        {
          "output_type": "display_data",
          "data": {
            "text/plain": [
              "<Figure size 640x480 with 1 Axes>"
            ],
            "image/png": "[encoded data removed]"
          },
          "metadata": {}
        }
      ]
    },
    {
      "cell_type": "code",
      "source": [
        "\n",
        "np.set_printoptions(formatter=dict(int=lambda x: f'{x:4}'))\n",
        "print(np.arange(10).reshape(1,10))\n",
        "print()\n",
        "print(confusion_matrix(predicted.view(-1), y_test.view(-1)))"
      ],
      "metadata": {
        "colab": {
          "base_uri": "https://localhost:8080/",
          "height": 0
        },
        "id": "b5d4tM6r_MLu",
        "outputId": "cf56642e-9b55-4f8d-cba5-5a8505ff9a26"
      },
      "execution_count": 105,
      "outputs": [
        {
          "output_type": "stream",
          "name": "stdout",
          "text": [
            "[[   0    1    2    3    4    5    6    7    8    9]]\n",
            "\n",
            "[[   1    0    0    0    0    0    0    0    0    0]\n",
            " [   0    1    0    0    0    0    0    0    0    0]\n",
            " [   0    0    1    0    0    0    0    0    0    0]\n",
            " [   0    0    0    1    0    0    0    0    0    0]\n",
            " [   0    0    0    0    1    0    0    0    0    0]\n",
            " [   0    0    0    0    0    1    0    0    0    0]\n",
            " [   0    0    0    0    0    0    1    0    0    0]\n",
            " [   0    0    0    0    0    0    0    1    0    0]\n",
            " [   0    0    0    0    0    0    0    0    1    0]\n",
            " [   0    0    0    0    0    0    0    0    0    1]]\n"
          ]
        }
      ]
    },
    {
      "cell_type": "markdown",
      "source": [],
      "metadata": {
        "id": "JOtRilBfDLqf"
      }
    },
    {
      "cell_type": "markdown",
      "source": [
        "YENUGANTI PRATHYUSHA\n",
        "212223240187\n",
        "\n"
      ],
      "metadata": {
        "id": "HJUmy-79DNxo"
      }
    },
    {
      "cell_type": "code",
      "source": [
        "torch.save(model.state_dict(),'YENUGANTI PRATHYUSHA EX3.pt')"
      ],
      "metadata": {
        "id": "BBiObWbmDuOt"
      },
      "execution_count": 107,
      "outputs": []
    },
    {
      "cell_type": "code",
      "source": [],
      "metadata": {
        "id": "m3mqMNYMYGMO"
      },
      "execution_count": 106,
      "outputs": []
    },
    {
      "cell_type": "code",
      "source": [],
      "metadata": {
        "id": "BmKr89nkXoZw"
      },
      "execution_count": 106,
      "outputs": []
    }
  ]
}